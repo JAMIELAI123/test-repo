{
 "cells": [
  {
   "cell_type": "code",
   "execution_count": 1,
   "metadata": {},
   "outputs": [
    {
     "name": "stdout",
     "output_type": "stream",
     "text": [
      "Initiating login request with your identity provider. A browser window should have opened for you to complete the login. If you can't see it, check existing browser windows, or your OS settings. Press CTRL+C to abort and try again...\n"
     ]
    }
   ],
   "source": [
    "import snowflake.connector\n",
    "import os\n",
    "import pandas as pd\n",
    "import re\n",
    "\n",
    "WH =''\n",
    "DB =''\n",
    "\n",
    "ctx = snowflake.connector.connect(user='',\n",
    "password='',\n",
    "account='',\n",
    "host='',\n",
    "authenticator='externalbrowser',\n",
    "warehouse='')\n"
   ]
  },
  {
   "cell_type": "code",
   "execution_count": 2,
   "metadata": {},
   "outputs": [
    {
     "name": "stdout",
     "output_type": "stream",
     "text": [
      "C:/Users/jamielai/Desktop/FG_box.txt\n"
     ]
    }
   ],
   "source": [
    "### Import ###\n",
    "\n",
    "from tkinter import Tk\n",
    "from tkinter.filedialog import askopenfilename\n",
    "\n",
    "Tk().withdraw()\n",
    "\n",
    "data_path = askopenfilename()\n",
    "print(data_path)\n"
   ]
  },
  {
   "cell_type": "code",
   "execution_count": 3,
   "metadata": {},
   "outputs": [
    {
     "name": "stdout",
     "output_type": "stream",
     "text": [
      "0\n"
     ]
    },
    {
     "ename": "ProgrammingError",
     "evalue": "001003 (42000): SQL compilation error:\nsyntax error line 3 at position 27 unexpected ')'.",
     "output_type": "error",
     "traceback": [
      "\u001b[1;31m---------------------------------------------------------------------------\u001b[0m",
      "\u001b[1;31mProgrammingError\u001b[0m                          Traceback (most recent call last)",
      "\u001b[1;32m~\\AppData\\Local\\Temp/ipykernel_29924/1415782986.py\u001b[0m in \u001b[0;36m<module>\u001b[1;34m\u001b[0m\n\u001b[0;32m     33\u001b[0m     '''.format(LT2)\n\u001b[0;32m     34\u001b[0m \u001b[1;33m\u001b[0m\u001b[0m\n\u001b[1;32m---> 35\u001b[1;33m     \u001b[0mcs\u001b[0m\u001b[1;33m.\u001b[0m\u001b[0mexecute\u001b[0m\u001b[1;33m(\u001b[0m\u001b[0mquery\u001b[0m\u001b[1;33m)\u001b[0m\u001b[1;33m\u001b[0m\u001b[1;33m\u001b[0m\u001b[0m\n\u001b[0m\u001b[0;32m     36\u001b[0m     \u001b[0mdf_L2\u001b[0m \u001b[1;33m=\u001b[0m \u001b[0mcs\u001b[0m\u001b[1;33m.\u001b[0m\u001b[0mfetch_pandas_all\u001b[0m\u001b[1;33m(\u001b[0m\u001b[1;33m)\u001b[0m\u001b[1;33m\u001b[0m\u001b[1;33m\u001b[0m\u001b[0m\n\u001b[0;32m     37\u001b[0m     \u001b[0mdf_L2\u001b[0m\u001b[1;33m[\u001b[0m\u001b[1;34m'STEP'\u001b[0m\u001b[1;33m]\u001b[0m \u001b[1;33m=\u001b[0m \u001b[0mdf_L2\u001b[0m\u001b[1;33m[\u001b[0m\u001b[1;34m'STEP'\u001b[0m\u001b[1;33m]\u001b[0m\u001b[1;33m.\u001b[0m\u001b[0mfillna\u001b[0m\u001b[1;33m(\u001b[0m\u001b[1;34m'NULL'\u001b[0m\u001b[1;33m)\u001b[0m \u001b[1;31m#Step = NULL\u001b[0m\u001b[1;33m\u001b[0m\u001b[1;33m\u001b[0m\u001b[0m\n",
      "\u001b[1;32m~\\Anaconda3\\lib\\site-packages\\snowflake\\connector\\cursor.py\u001b[0m in \u001b[0;36mexecute\u001b[1;34m(self, command, params, _bind_stage, timeout, _exec_async, _do_reset, _put_callback, _put_azure_callback, _put_callback_output_stream, _get_callback, _get_azure_callback, _get_callback_output_stream, _show_progress_bar, _statement_params, _is_internal, _describe_only, _no_results, _use_ijson, _is_put_get, _raise_put_get_error, _force_put_overwrite, file_stream)\u001b[0m\n\u001b[0;32m    788\u001b[0m                 \u001b[1;34m\"sfqid\"\u001b[0m\u001b[1;33m:\u001b[0m \u001b[0mself\u001b[0m\u001b[1;33m.\u001b[0m\u001b[0m_sfqid\u001b[0m\u001b[1;33m,\u001b[0m\u001b[1;33m\u001b[0m\u001b[1;33m\u001b[0m\u001b[0m\n\u001b[0;32m    789\u001b[0m             }\n\u001b[1;32m--> 790\u001b[1;33m             Error.errorhandler_wrapper(\n\u001b[0m\u001b[0;32m    791\u001b[0m                 \u001b[0mself\u001b[0m\u001b[1;33m.\u001b[0m\u001b[0mconnection\u001b[0m\u001b[1;33m,\u001b[0m \u001b[0mself\u001b[0m\u001b[1;33m,\u001b[0m \u001b[0mProgrammingError\u001b[0m\u001b[1;33m,\u001b[0m \u001b[0merrvalue\u001b[0m\u001b[1;33m\u001b[0m\u001b[1;33m\u001b[0m\u001b[0m\n\u001b[0;32m    792\u001b[0m             )\n",
      "\u001b[1;32m~\\Anaconda3\\lib\\site-packages\\snowflake\\connector\\errors.py\u001b[0m in \u001b[0;36merrorhandler_wrapper\u001b[1;34m(connection, cursor, error_class, error_value)\u001b[0m\n\u001b[0;32m    270\u001b[0m         \"\"\"\n\u001b[0;32m    271\u001b[0m \u001b[1;33m\u001b[0m\u001b[0m\n\u001b[1;32m--> 272\u001b[1;33m         handed_over = Error.hand_to_other_handler(\n\u001b[0m\u001b[0;32m    273\u001b[0m             \u001b[0mconnection\u001b[0m\u001b[1;33m,\u001b[0m\u001b[1;33m\u001b[0m\u001b[1;33m\u001b[0m\u001b[0m\n\u001b[0;32m    274\u001b[0m             \u001b[0mcursor\u001b[0m\u001b[1;33m,\u001b[0m\u001b[1;33m\u001b[0m\u001b[1;33m\u001b[0m\u001b[0m\n",
      "\u001b[1;32m~\\Anaconda3\\lib\\site-packages\\snowflake\\connector\\errors.py\u001b[0m in \u001b[0;36mhand_to_other_handler\u001b[1;34m(connection, cursor, error_class, error_value)\u001b[0m\n\u001b[0;32m    325\u001b[0m         \u001b[1;32mif\u001b[0m \u001b[0mcursor\u001b[0m \u001b[1;32mis\u001b[0m \u001b[1;32mnot\u001b[0m \u001b[1;32mNone\u001b[0m\u001b[1;33m:\u001b[0m\u001b[1;33m\u001b[0m\u001b[1;33m\u001b[0m\u001b[0m\n\u001b[0;32m    326\u001b[0m             \u001b[0mcursor\u001b[0m\u001b[1;33m.\u001b[0m\u001b[0mmessages\u001b[0m\u001b[1;33m.\u001b[0m\u001b[0mappend\u001b[0m\u001b[1;33m(\u001b[0m\u001b[1;33m(\u001b[0m\u001b[0merror_class\u001b[0m\u001b[1;33m,\u001b[0m \u001b[0merror_value\u001b[0m\u001b[1;33m)\u001b[0m\u001b[1;33m)\u001b[0m\u001b[1;33m\u001b[0m\u001b[1;33m\u001b[0m\u001b[0m\n\u001b[1;32m--> 327\u001b[1;33m             \u001b[0mcursor\u001b[0m\u001b[1;33m.\u001b[0m\u001b[0merrorhandler\u001b[0m\u001b[1;33m(\u001b[0m\u001b[0mconnection\u001b[0m\u001b[1;33m,\u001b[0m \u001b[0mcursor\u001b[0m\u001b[1;33m,\u001b[0m \u001b[0merror_class\u001b[0m\u001b[1;33m,\u001b[0m \u001b[0merror_value\u001b[0m\u001b[1;33m)\u001b[0m\u001b[1;33m\u001b[0m\u001b[1;33m\u001b[0m\u001b[0m\n\u001b[0m\u001b[0;32m    328\u001b[0m             \u001b[1;32mreturn\u001b[0m \u001b[1;32mTrue\u001b[0m\u001b[1;33m\u001b[0m\u001b[1;33m\u001b[0m\u001b[0m\n\u001b[0;32m    329\u001b[0m         \u001b[1;32melif\u001b[0m \u001b[0mconnection\u001b[0m \u001b[1;32mis\u001b[0m \u001b[1;32mnot\u001b[0m \u001b[1;32mNone\u001b[0m\u001b[1;33m:\u001b[0m\u001b[1;33m\u001b[0m\u001b[1;33m\u001b[0m\u001b[0m\n",
      "\u001b[1;32m~\\Anaconda3\\lib\\site-packages\\snowflake\\connector\\errors.py\u001b[0m in \u001b[0;36mdefault_errorhandler\u001b[1;34m(connection, cursor, error_class, error_value)\u001b[0m\n\u001b[0;32m    204\u001b[0m             \u001b[0mA\u001b[0m \u001b[0mSnowflake\u001b[0m \u001b[0merror\u001b[0m\u001b[1;33m.\u001b[0m\u001b[1;33m\u001b[0m\u001b[1;33m\u001b[0m\u001b[0m\n\u001b[0;32m    205\u001b[0m         \"\"\"\n\u001b[1;32m--> 206\u001b[1;33m         raise error_class(\n\u001b[0m\u001b[0;32m    207\u001b[0m             \u001b[0mmsg\u001b[0m\u001b[1;33m=\u001b[0m\u001b[0merror_value\u001b[0m\u001b[1;33m.\u001b[0m\u001b[0mget\u001b[0m\u001b[1;33m(\u001b[0m\u001b[1;34m\"msg\"\u001b[0m\u001b[1;33m)\u001b[0m\u001b[1;33m,\u001b[0m\u001b[1;33m\u001b[0m\u001b[1;33m\u001b[0m\u001b[0m\n\u001b[0;32m    208\u001b[0m             \u001b[0merrno\u001b[0m\u001b[1;33m=\u001b[0m\u001b[0merror_value\u001b[0m\u001b[1;33m.\u001b[0m\u001b[0mget\u001b[0m\u001b[1;33m(\u001b[0m\u001b[1;34m\"errno\"\u001b[0m\u001b[1;33m)\u001b[0m\u001b[1;33m,\u001b[0m\u001b[1;33m\u001b[0m\u001b[1;33m\u001b[0m\u001b[0m\n",
      "\u001b[1;31mProgrammingError\u001b[0m: 001003 (42000): SQL compilation error:\nsyntax error line 3 at position 27 unexpected ')'."
     ]
    }
   ],
   "source": [
    "### read lot list ###\n",
    " \n",
    "f = open(data_path, 'r')\n",
    "LT1 = f.read().split('\\n')\n",
    "LT1 = list(dict.fromkeys(LT1)) #dict keys can remove duplicate\n",
    "while(\"\" in LT1):\n",
    "    LT1.remove(\"\") #drop na    \n",
    "LT1=tuple(LT1) #change to tuple\n",
    " \n",
    "cs = ctx.cursor() \n",
    " \n",
    "query = '''\n",
    "SELECT DISTINCT FROM_LOT_ID, TO_LOT_ID, STEP \n",
    "FROM PROD_BEMFG_DM.LOT. LOT_HIERARCHY_INFO\n",
    "WHERE FROM_LOT_ID  IN {} \n",
    "'''.format(LT1)\n",
    " \n",
    "cs.execute(query)\n",
    "df_L1 = cs.fetch_pandas_all()\n",
    "df_L1['STEP'] = df_L1['STEP'].fillna('NULL') #Step = NULL\n",
    "\n",
    "LT2 = tuple(df_L1 ['TO_LOT_ID'].dropna().drop_duplicates())\n",
    "\n",
    "n = 20\n",
    "for i in range(n):\n",
    "    \n",
    "    print(i)\n",
    "    \n",
    "    query = '''\n",
    "    SELECT DISTINCT FROM_LOT_ID, TO_LOT_ID, STEP \n",
    "    FROM PROD_BEMFG_DM.LOT. LOT_HIERARCHY_INFO\n",
    "    WHERE FROM_LOT_ID  IN {} \n",
    "    '''.format(LT2)\n",
    "\n",
    "    cs.execute(query)\n",
    "    df_L2 = cs.fetch_pandas_all()\n",
    "    df_L2['STEP'] = df_L2['STEP'].fillna('NULL') #Step = NULL\n",
    "\n",
    "    df_L1 = df_L1.merge(df_L2, left_on=[\"TO_LOT_ID\"], right_on=[\"FROM_LOT_ID\"], how='left')\n",
    "    df_L1 = df_L1.rename(columns={'FROM_LOT_ID_y': 'FROM_LOT_ID', 'TO_LOT_ID_y': 'TO_LOT_ID', 'STEP_y': 'STEP'})\n",
    "\n",
    "    \n",
    "    indx = df_L1[ df_L1.loc[:,'FROM_LOT_ID'] == df_L1.loc[:,'TO_LOT_ID'] ].index #FROM==TO index\n",
    "    df_temp = df_L1.drop(indx) #drop those index\n",
    "\n",
    "    # A is current lot list to query, B is all the FROM_LOT_ID in past iterations\n",
    "    A = set(df_temp['TO_LOT_ID'].dropna().drop_duplicates())\n",
    "    \n",
    "    if df_L1.shape[1]==6:\n",
    "        B = set(df_L1['FROM_LOT_ID_x']) #for n=0\n",
    "    else:\n",
    "        B = set(df_L1['FROM_LOT_ID_x'].stack()) #for n>=1\n",
    "        \n",
    "    LT2 = A-B #remove the lots already querry in past iterations\n",
    "    LT2 = tuple(LT2)\n",
    "\n",
    "    if len(LT2) == 1:\n",
    "        LT2 = (LT2[0],LT2[0]) #to avoid tuple with only one element will error in SQL query\n",
    "\n",
    "    if len(LT2) == 0:\n",
    "        break #loop end when no more new TO lot IDs\n",
    "\n",
    "        \n",
    "\n",
    "def org(x):\n",
    "    return x.dropna()[0]\n",
    "\n",
    "def last(x):\n",
    "    return x.dropna()[-3]\n",
    "\n",
    "def step(x):\n",
    "    return x.dropna()[-3]\n",
    "\n",
    "\n",
    "df_L1[\"ORIGIN_FROM_LOT_ID\"] = df_L1.apply(org, axis=1)\n",
    "df_L1[\"LAST_TO_LOT_ID\"] = df_L1.apply(last, axis=1)\n",
    "df_L1[\"LAST_STEP\"] = df_L1.apply(step, axis=1)\n",
    "\n",
    "#df_L1.rename(columns={'STEP': 'LAST_STEP'}, inplace=True)\n"
   ]
  },
  {
   "cell_type": "code",
   "execution_count": 7,
   "metadata": {},
   "outputs": [],
   "source": [
    "### save file\n",
    "from tkinter import Tk\n",
    "from tkinter.filedialog import asksaveasfilename\n",
    "filename = asksaveasfilename(filetypes = [('All Files', '*')])\n",
    "df_L1.to_csv(filename, index=False)"
   ]
  },
  {
   "cell_type": "code",
   "execution_count": null,
   "metadata": {},
   "outputs": [],
   "source": []
  }
 ],
 "metadata": {
  "kernelspec": {
   "display_name": "Python 3 (ipykernel)",
   "language": "python",
   "name": "python3"
  },
  "language_info": {
   "codemirror_mode": {
    "name": "ipython",
    "version": 3
   },
   "file_extension": ".py",
   "mimetype": "text/x-python",
   "name": "python",
   "nbconvert_exporter": "python",
   "pygments_lexer": "ipython3",
   "version": "3.9.7"
  }
 },
 "nbformat": 4,
 "nbformat_minor": 4
}
